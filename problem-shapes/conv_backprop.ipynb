{
 "cells": [
  {
   "cell_type": "code",
   "execution_count": 101,
   "metadata": {},
   "outputs": [],
   "source": [
    "import numpy as np\n",
    "s = 1\n",
    "d = 0\n",
    "n_ex = 1\n",
    "out_rows = 7\n",
    "out_cols = 7\n",
    "out_ch = 5\n",
    "\n",
    "fr = 3\n",
    "fc = 3\n",
    "\n",
    "in_rows = out_rows + fr - 1 \n",
    "in_cols = out_cols + fc - 1\n",
    "in_ch = 3\n",
    "\n",
    "# simple test 1\n",
    "# W = (np.array(range(fr*fc*in_ch*out_ch)) + 1).reshape(fr, fc, in_ch, out_ch)\n",
    "# X = (np.array(range(n_ex*in_rows*in_cols*in_ch)) + 1).reshape(n_ex, in_rows, in_cols, in_ch)\n",
    "# dZ = (np.array(range(n_ex*out_rows*out_cols*out_ch)) + 1).reshape(n_ex, out_rows, out_cols, out_ch)\n",
    "\n",
    "# simple test 2\n",
    "# W = np.ones(fr*fc*in_ch*out_ch).reshape(fr, fc, in_ch, out_ch)\n",
    "# X = 2*np.ones(n_ex*in_rows*in_cols*in_ch).reshape(n_ex, in_rows, in_cols, in_ch)\n",
    "# dZ = np.ones(n_ex*out_rows*out_cols*out_ch).reshape(n_ex, out_rows, out_cols, out_ch)\n",
    "\n",
    "# random int test \n",
    "W = np.random.randint(10, size=(fr*fc*in_ch*out_ch)).reshape(fr, fc, in_ch, out_ch)\n",
    "X = np.random.randint(10, size=(n_ex*in_rows*in_cols*in_ch)).reshape(n_ex, in_rows, in_cols, in_ch)\n",
    "dZ = np.random.randint(10, size=(n_ex*out_rows*out_cols*out_ch)).reshape(n_ex, out_rows, out_cols, out_ch)\n",
    "\n",
    "# real test \n",
    "# W = np.random.rand(fr*fc*in_ch*out_ch).reshape(fr, fc, in_ch, out_ch)\n",
    "# X = np.random.rand(n_ex*in_rows*in_cols*in_ch).reshape(n_ex, in_rows, in_cols, in_ch)\n",
    "# dZ = np.random.rand(n_ex*out_rows*out_cols*out_ch).reshape(n_ex, out_rows, out_cols, out_ch)"
   ]
  },
  {
   "cell_type": "code",
   "execution_count": 102,
   "metadata": {},
   "outputs": [
    {
     "name": "stdout",
     "output_type": "stream",
     "text": [
      "[[4 5 2]\n",
      " [9 6 7]\n",
      " [9 7 4]]\n",
      "[[4 8 0]\n",
      " [3 0 7]\n",
      " [8 9 6]]\n"
     ]
    }
   ],
   "source": [
    "# filter 0\n",
    "print(W[:, :, 0, 0]) \n",
    "print(W[:, :, 1, 0])"
   ]
  },
  {
   "cell_type": "code",
   "execution_count": 103,
   "metadata": {},
   "outputs": [
    {
     "name": "stdout",
     "output_type": "stream",
     "text": [
      "[[8 6 2]\n",
      " [9 3 6]\n",
      " [1 2 8]]\n",
      "[[5 6 1]\n",
      " [6 1 6]\n",
      " [8 9 6]]\n"
     ]
    }
   ],
   "source": [
    "# filter 1\n",
    "print(W[:, :, 0, 1]) \n",
    "print(W[:, :, 1, 1])"
   ]
  },
  {
   "cell_type": "code",
   "execution_count": 104,
   "metadata": {},
   "outputs": [
    {
     "name": "stdout",
     "output_type": "stream",
     "text": [
      "[[8 4 3 5 1 7 9 4 6]\n",
      " [9 0 1 1 2 5 1 3 2]\n",
      " [0 0 4 4 3 8 1 6 6]\n",
      " [8 8 2 8 3 6 5 5 0]\n",
      " [2 3 9 3 3 3 6 0 8]\n",
      " [0 3 3 3 4 2 5 2 1]\n",
      " [1 2 9 2 2 2 5 4 8]\n",
      " [5 1 2 1 2 1 8 1 7]\n",
      " [4 5 6 0 5 2 6 7 1]]\n",
      "[[1 1 1 1 3 6 0 2 9]\n",
      " [0 8 9 5 2 2 7 8 9]\n",
      " [6 1 7 8 5 3 1 9 4]\n",
      " [5 3 9 7 3 1 7 6 9]\n",
      " [5 1 0 1 3 5 0 9 3]\n",
      " [4 7 3 4 9 6 9 8 2]\n",
      " [0 8 9 6 7 5 7 8 8]\n",
      " [1 2 7 3 5 4 8 4 3]\n",
      " [9 8 4 3 6 7 9 1 9]]\n"
     ]
    }
   ],
   "source": [
    "# ifmap\n",
    "print(X[0, :, :, 0]) \n",
    "print(X[0, :, :, 1])"
   ]
  },
  {
   "cell_type": "code",
   "execution_count": 105,
   "metadata": {},
   "outputs": [
    {
     "name": "stdout",
     "output_type": "stream",
     "text": [
      "[[1 7 3 3 0 0 1]\n",
      " [6 9 7 5 8 6 0]\n",
      " [5 8 7 1 4 2 0]\n",
      " [2 0 0 7 0 1 1]\n",
      " [5 2 1 1 9 4 0]\n",
      " [6 1 4 4 6 1 4]\n",
      " [2 1 7 9 6 3 5]]\n",
      "[[4 3 2 7 3 8 4]\n",
      " [7 9 6 1 2 8 7]\n",
      " [9 2 2 2 0 9 9]\n",
      " [6 4 5 7 2 6 8]\n",
      " [6 5 5 0 1 2 5]\n",
      " [4 1 4 9 8 9 2]\n",
      " [4 2 0 2 8 1 5]]\n"
     ]
    }
   ],
   "source": [
    "# upstream gradients\n",
    "print(dZ[0, :, :, 0])\n",
    "print(dZ[0, :, :, 1])"
   ]
  },
  {
   "cell_type": "code",
   "execution_count": 106,
   "metadata": {},
   "outputs": [],
   "source": [
    "# ground truth placeholder\n",
    "dW = np.zeros_like(W)\n",
    "dX = np.zeros_like(X)\n",
    "\n",
    "for m in range(n_ex):\n",
    "    for i in range(out_rows):\n",
    "        for j in range(out_cols):\n",
    "            for c in range(out_ch):\n",
    "                # compute window boundaries w. stride and dilation\n",
    "                i0, i1 = i * s, (i * s) + fr * (d + 1) - d\n",
    "                j0, j1 = j * s, (j * s) + fc * (d + 1) - d\n",
    "\n",
    "                wc = W[:, :, :, c]\n",
    "                kernel = dZ[m, i, j, c]\n",
    "                window = X[m, i0 : i1 : (d + 1), j0 : j1 : (d + 1), :]\n",
    "\n",
    "                # dB[:, :, :, c] += kernel\n",
    "                dW[:, :, :, c] += window * kernel\n",
    "                dX[m, i0 : i1 : (d + 1), j0 : j1 : (d + 1), :] += wc * kernel"
   ]
  },
  {
   "cell_type": "code",
   "execution_count": 107,
   "metadata": {},
   "outputs": [
    {
     "data": {
      "text/plain": [
       "(1, 3, 5, 7, 7, 3, 3)"
      ]
     },
     "execution_count": 107,
     "metadata": {},
     "output_type": "execute_result"
    }
   ],
   "source": [
    "# reproducing with deep loop nest\n",
    "N = n_ex\n",
    "C = in_ch\n",
    "K = out_ch\n",
    "P = out_cols\n",
    "Q = out_rows\n",
    "R = fc\n",
    "S = fr\n",
    "(N, C, K, P, Q, R, S)"
   ]
  },
  {
   "cell_type": "code",
   "execution_count": 108,
   "metadata": {},
   "outputs": [
    {
     "data": {
      "text/plain": [
       "array([[[[0, 0, 0, 0, 0],\n",
       "         [0, 0, 0, 0, 0],\n",
       "         [0, 0, 0, 0, 0]],\n",
       "\n",
       "        [[0, 0, 0, 0, 0],\n",
       "         [0, 0, 0, 0, 0],\n",
       "         [0, 0, 0, 0, 0]],\n",
       "\n",
       "        [[0, 0, 0, 0, 0],\n",
       "         [0, 0, 0, 0, 0],\n",
       "         [0, 0, 0, 0, 0]]],\n",
       "\n",
       "\n",
       "       [[[0, 0, 0, 0, 0],\n",
       "         [0, 0, 0, 0, 0],\n",
       "         [0, 0, 0, 0, 0]],\n",
       "\n",
       "        [[0, 0, 0, 0, 0],\n",
       "         [0, 0, 0, 0, 0],\n",
       "         [0, 0, 0, 0, 0]],\n",
       "\n",
       "        [[0, 0, 0, 0, 0],\n",
       "         [0, 0, 0, 0, 0],\n",
       "         [0, 0, 0, 0, 0]]],\n",
       "\n",
       "\n",
       "       [[[0, 0, 0, 0, 0],\n",
       "         [0, 0, 0, 0, 0],\n",
       "         [0, 0, 0, 0, 0]],\n",
       "\n",
       "        [[0, 0, 0, 0, 0],\n",
       "         [0, 0, 0, 0, 0],\n",
       "         [0, 0, 0, 0, 0]],\n",
       "\n",
       "        [[0, 0, 0, 0, 0],\n",
       "         [0, 0, 0, 0, 0],\n",
       "         [0, 0, 0, 0, 0]]]])"
      ]
     },
     "execution_count": 108,
     "metadata": {},
     "output_type": "execute_result"
    }
   ],
   "source": [
    "# test placeholder\n",
    "test_dW = np.zeros_like(W)\n",
    "test_dX = np.zeros_like(X)\n",
    "\n",
    "# gradient wrt filters\n",
    "for n in range(N):\n",
    "    for c in range(C):\n",
    "        for k in range(K):\n",
    "            for p in range(P):\n",
    "                for q in range(Q):\n",
    "                    for r in range(R):\n",
    "                        for s in range(S):\n",
    "                            test_dW[s, r, c, k] += X[n, q+s, p+r, c] * dZ[n, q, p, k]\n",
    "\n",
    "# emmm numerical issue with FP...\n",
    "dW - test_dW"
   ]
  },
  {
   "cell_type": "code",
   "execution_count": 109,
   "metadata": {},
   "outputs": [
    {
     "name": "stdout",
     "output_type": "stream",
     "text": [
      "[[4 5 2]\n",
      " [9 6 7]\n",
      " [9 7 4]]\n",
      "[[4 7 9]\n",
      " [7 6 9]\n",
      " [2 5 4]]\n"
     ]
    }
   ],
   "source": [
    "# gradient wrt to activations\n",
    "# error gradient map need to be padded\n",
    "# npad is a tuple of (n_before, n_after) for each dimension\n",
    "npad = ((0, 0), (fr-1, fr-1), (fc-1, fc-1), (0, 0))\n",
    "padded_dZ = np.pad(dZ, pad_width=npad, mode='constant', constant_values=0)\n",
    "# print(padded_dZ[0, :, :, 0])\n",
    "# print(padded_dZ[0, :, :, 1])\n",
    "\n",
    "# generate spatially rotated (180 degree) weight\n",
    "spat_W = np.zeros_like(W)\n",
    "for i in range(in_ch):\n",
    "    for j in range(out_ch):\n",
    "        for s in range(fr):\n",
    "            for r in range(fc):\n",
    "                spat_W[fr-1-s, fc-1-r, i, j] = W[s, r, i, j]\n",
    "print(W[:, :, 0, 0]) \n",
    "# print(W[:, :, 1, 0])\n",
    "print(spat_W[:, :, 0, 0]) \n",
    "# print(spat_W[:, :, 1, 0])"
   ]
  },
  {
   "cell_type": "code",
   "execution_count": 111,
   "metadata": {},
   "outputs": [
    {
     "data": {
      "text/plain": [
       "array([[[[0, 0, 0],\n",
       "         [0, 0, 0],\n",
       "         [0, 0, 0],\n",
       "         [0, 0, 0],\n",
       "         [0, 0, 0],\n",
       "         [0, 0, 0],\n",
       "         [0, 0, 0],\n",
       "         [0, 0, 0],\n",
       "         [0, 0, 0]],\n",
       "\n",
       "        [[0, 0, 0],\n",
       "         [0, 0, 0],\n",
       "         [0, 0, 0],\n",
       "         [0, 0, 0],\n",
       "         [0, 0, 0],\n",
       "         [0, 0, 0],\n",
       "         [0, 0, 0],\n",
       "         [0, 0, 0],\n",
       "         [0, 0, 0]],\n",
       "\n",
       "        [[0, 0, 0],\n",
       "         [0, 0, 0],\n",
       "         [0, 0, 0],\n",
       "         [0, 0, 0],\n",
       "         [0, 0, 0],\n",
       "         [0, 0, 0],\n",
       "         [0, 0, 0],\n",
       "         [0, 0, 0],\n",
       "         [0, 0, 0]],\n",
       "\n",
       "        [[0, 0, 0],\n",
       "         [0, 0, 0],\n",
       "         [0, 0, 0],\n",
       "         [0, 0, 0],\n",
       "         [0, 0, 0],\n",
       "         [0, 0, 0],\n",
       "         [0, 0, 0],\n",
       "         [0, 0, 0],\n",
       "         [0, 0, 0]],\n",
       "\n",
       "        [[0, 0, 0],\n",
       "         [0, 0, 0],\n",
       "         [0, 0, 0],\n",
       "         [0, 0, 0],\n",
       "         [0, 0, 0],\n",
       "         [0, 0, 0],\n",
       "         [0, 0, 0],\n",
       "         [0, 0, 0],\n",
       "         [0, 0, 0]],\n",
       "\n",
       "        [[0, 0, 0],\n",
       "         [0, 0, 0],\n",
       "         [0, 0, 0],\n",
       "         [0, 0, 0],\n",
       "         [0, 0, 0],\n",
       "         [0, 0, 0],\n",
       "         [0, 0, 0],\n",
       "         [0, 0, 0],\n",
       "         [0, 0, 0]],\n",
       "\n",
       "        [[0, 0, 0],\n",
       "         [0, 0, 0],\n",
       "         [0, 0, 0],\n",
       "         [0, 0, 0],\n",
       "         [0, 0, 0],\n",
       "         [0, 0, 0],\n",
       "         [0, 0, 0],\n",
       "         [0, 0, 0],\n",
       "         [0, 0, 0]],\n",
       "\n",
       "        [[0, 0, 0],\n",
       "         [0, 0, 0],\n",
       "         [0, 0, 0],\n",
       "         [0, 0, 0],\n",
       "         [0, 0, 0],\n",
       "         [0, 0, 0],\n",
       "         [0, 0, 0],\n",
       "         [0, 0, 0],\n",
       "         [0, 0, 0]],\n",
       "\n",
       "        [[0, 0, 0],\n",
       "         [0, 0, 0],\n",
       "         [0, 0, 0],\n",
       "         [0, 0, 0],\n",
       "         [0, 0, 0],\n",
       "         [0, 0, 0],\n",
       "         [0, 0, 0],\n",
       "         [0, 0, 0],\n",
       "         [0, 0, 0]]]])"
      ]
     },
     "execution_count": 111,
     "metadata": {},
     "output_type": "execute_result"
    }
   ],
   "source": [
    "test_dX = np.zeros_like(X)\n",
    "\n",
    "for n in range(N):\n",
    "    for c in range(C):\n",
    "        for k in range(K):\n",
    "            for pr in range(P+R-1):\n",
    "                for qs in range(Q+S-1):\n",
    "                    for r in range(R):\n",
    "                        for s in range(S):\n",
    "                            # test_dX[n, qs, pr, c] += padded_dZ[n, qs+s, pr+r, k] * spat_W[s, r, c, k]\n",
    "                            test_dX[n, qs, pr, c] += padded_dZ[n, qs+s, pr+r, k] * W[S-1-s, R-1-r, c, k]\n",
    "\n",
    "# emmm numerical issue with FP...\n",
    "dX - test_dX"
   ]
  },
  {
   "cell_type": "code",
   "execution_count": 80,
   "metadata": {},
   "outputs": [
    {
     "name": "stdout",
     "output_type": "stream",
     "text": [
      "[[144 147 141]\n",
      " [ 79 142 159]\n",
      " [105 199 181]]\n",
      "[[120 102  95]\n",
      " [112  77 101]\n",
      " [109 116 148]]\n"
     ]
    }
   ],
   "source": [
    "# gradient wrt filter 0\n",
    "print(dW[:, :, 0, 0]) \n",
    "print(dW[:, :, 1, 0])"
   ]
  },
  {
   "cell_type": "code",
   "execution_count": 68,
   "metadata": {},
   "outputs": [
    {
     "name": "stdout",
     "output_type": "stream",
     "text": [
      "[[120  98 137]\n",
      " [ 83 106 127]\n",
      " [112 149 134]]\n",
      "[[ 95  58 114]\n",
      " [ 76  54  95]\n",
      " [ 80 100 114]]\n"
     ]
    }
   ],
   "source": [
    "# gradient wrt filter 0\n",
    "print(dW[:, :, 0, 1]) \n",
    "print(dW[:, :, 1, 1])"
   ]
  },
  {
   "cell_type": "code",
   "execution_count": 69,
   "metadata": {},
   "outputs": [
    {
     "name": "stdout",
     "output_type": "stream",
     "text": [
      "[[ 44  61  27  21]\n",
      " [ 78 136  86  62]\n",
      " [148 194 141 104]\n",
      " [ 96  82  73  49]]\n",
      "[[ 85  73  56  31]\n",
      " [161 164 200 129]\n",
      " [136 186 222 128]\n",
      " [ 53  79  77  36]]\n"
     ]
    }
   ],
   "source": [
    "# gradient wrt ifmap\n",
    "print(dX[0, :, :, 0]) \n",
    "print(dX[0, :, :, 1])"
   ]
  }
 ],
 "metadata": {
  "kernelspec": {
   "display_name": "Python 3",
   "language": "python",
   "name": "python3"
  },
  "language_info": {
   "codemirror_mode": {
    "name": "ipython",
    "version": 3
   },
   "file_extension": ".py",
   "mimetype": "text/x-python",
   "name": "python",
   "nbconvert_exporter": "python",
   "pygments_lexer": "ipython3",
   "version": "3.7.0"
  }
 },
 "nbformat": 4,
 "nbformat_minor": 2
}
